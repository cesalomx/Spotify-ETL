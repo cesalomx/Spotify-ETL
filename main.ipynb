{
 "cells": [
  {
   "cell_type": "markdown",
   "metadata": {},
   "source": [
    "### Extracting the Data"
   ]
  },
  {
   "cell_type": "code",
   "execution_count": 1,
   "metadata": {},
   "outputs": [],
   "source": [
    "import sqlalchemy\n",
    "import pandas as pd\n",
    "from sqlalchemy.orm import sessionmaker\n",
    "import requests\n",
    "import json\n",
    "from datetime import datetime\n",
    "import datetime\n",
    "import sqlite3\n",
    "\n",
    "USER_ID = '227dt3g18rrzyco2j7p2boy2ly'\n",
    "TOKEN = 'BQDrII1YwKUcT-bGt5GBwJgoU4Q_mpqoQLlkNDH8m3xTIKuu6j-wNHARndlZy4nqBF3GIDnSec85a0-Z4mrukDNIASszsASuyzFjfqIgOji3FW-7VwHshUDDVq8Wg-jukevB11E4PjLhqq4VDEw9NdsSO5xVyvh_8vsa5lrC'"
   ]
  },
  {
   "cell_type": "code",
   "execution_count": 2,
   "metadata": {},
   "outputs": [],
   "source": [
    "def data_validation(df:pd.DataFrame):\n",
    "#is the datadrame empty?    \n",
    "    if df.empty:\n",
    "        print(\"No songs were listened in the last 24 hours\")\n",
    "        return False\n",
    "\n",
    "#are primary keys ok?\n",
    "\n",
    "    if pd.Series(df['played_at']).is_unique:\n",
    "        pass\n",
    "    else:\n",
    "        raise Exception(\"The primary key conditions has been corrupted\")\n",
    "\n",
    "#are null values at song_id\n",
    "    \n",
    "    if df.isnull().values['song_id']:\n",
    "        raise Exception(\"There is a Null Value in the played_at column\")\n",
    "    else:\n",
    "        return True\n",
    "    \n",
    "        "
   ]
  },
  {
   "cell_type": "code",
   "execution_count": 3,
   "metadata": {},
   "outputs": [],
   "source": [
    "headers = {\n",
    "    \"Accept\":\"application/json\",\n",
    "    \"Content-Type\":\"application/json\",\n",
    "    \"Authorization\":\"Bearer {token}\".format(token=TOKEN)\n",
    "}\n",
    "    "
   ]
  },
  {
   "cell_type": "code",
   "execution_count": 4,
   "metadata": {},
   "outputs": [],
   "source": [
    "r = requests.get(\"https://api.spotify.com/v1/me/player/recently-played\",headers = headers)\n",
    "response = r.json()"
   ]
  },
  {
   "cell_type": "code",
   "execution_count": 5,
   "metadata": {},
   "outputs": [],
   "source": [
    "my_song_list = []\n",
    "\n",
    "for song in response['items']:\n",
    "    artist_id = song['track']['artists'][0]['id']\n",
    "    artist_name = song['track']['artists'][0]['name']\n",
    "    artist_link = song['track']['artists'][0]['external_urls']['spotify'] \n",
    "    album_id = song['track']['album']['id']\n",
    "    album_name = song['track']['album']['name']\n",
    "    album_link = song['track']['album']['external_urls']['spotify']\n",
    "    song_id = song['track']['id']\n",
    "    song_name = song['track']['name']\n",
    "    song_link = song['track']['external_urls']['spotify']\n",
    "    duration_ms = song['track']['duration_ms']\n",
    "    popularity = song['track']['popularity']\n",
    "    disc_number = song['track']['disc_number']\n",
    "    played_at = song['played_at'].split(\".\")[0]\n",
    "    \n",
    "    song_dic = {'artist_id': artist_id,\n",
    "                    'artist_name':artist_name,\n",
    "                    'artist_link':artist_link,\n",
    "                    'album_id':album_id,\n",
    "                    'album_name':album_name,\n",
    "                    'album_link':album_link,\n",
    "                    'song_id':song_id,\n",
    "                    'song_name':song_name,\n",
    "                    'song_link':song_link,\n",
    "                    'duration_ms':duration_ms,\n",
    "                    'popularity':popularity,\n",
    "                    'disc_number':disc_number,\n",
    "                    'played_at':played_at\n",
    "                    }\n",
    "    \n",
    "    my_song_list.append(song_dic)\n",
    "    df = pd.DataFrame(my_song_list)\n"
   ]
  },
  {
   "cell_type": "markdown",
   "metadata": {},
   "source": [
    "### Cleaning Up the Data"
   ]
  },
  {
   "cell_type": "code",
   "execution_count": 6,
   "metadata": {},
   "outputs": [],
   "source": [
    "df = df[[\"artist_id\",\"artist_link\",\"album_id\",\"album_name\",\"album_link\",\"song_id\",\"song_name\",\"song_link\",\"duration_ms\",\"popularity\",\"disc_number\",\"played_at\"]]\n",
    "df[['date','time']] = df['played_at'].str.split('T',expand=True)\n",
    "#df = df.drop(columns=['played_at'])\n"
   ]
  },
  {
   "cell_type": "code",
   "execution_count": 9,
   "metadata": {},
   "outputs": [
    {
     "ename": "IndexError",
     "evalue": "only integers, slices (`:`), ellipsis (`...`), numpy.newaxis (`None`) and integer or boolean arrays are valid indices",
     "output_type": "error",
     "traceback": [
      "\u001b[1;31m---------------------------------------------------------------------------\u001b[0m",
      "\u001b[1;31mIndexError\u001b[0m                                Traceback (most recent call last)",
      "\u001b[1;32m<ipython-input-9-8946a3d47c1d>\u001b[0m in \u001b[0;36m<module>\u001b[1;34m\u001b[0m\n\u001b[1;32m----> 1\u001b[1;33m \u001b[1;32mif\u001b[0m \u001b[0mdata_validation\u001b[0m\u001b[1;33m(\u001b[0m\u001b[0mdf\u001b[0m\u001b[1;33m)\u001b[0m\u001b[1;33m:\u001b[0m\u001b[1;33m\u001b[0m\u001b[1;33m\u001b[0m\u001b[0m\n\u001b[0m\u001b[0;32m      2\u001b[0m     \u001b[0mprint\u001b[0m\u001b[1;33m(\u001b[0m\u001b[1;34m\"Data validation ran succesfully\"\u001b[0m\u001b[1;33m)\u001b[0m\u001b[1;33m\u001b[0m\u001b[1;33m\u001b[0m\u001b[0m\n",
      "\u001b[1;32m<ipython-input-2-5c578e04c07d>\u001b[0m in \u001b[0;36mdata_validation\u001b[1;34m(df)\u001b[0m\n\u001b[0;32m     14\u001b[0m \u001b[1;31m#are null values at song_id\u001b[0m\u001b[1;33m\u001b[0m\u001b[1;33m\u001b[0m\u001b[1;33m\u001b[0m\u001b[0m\n\u001b[0;32m     15\u001b[0m \u001b[1;33m\u001b[0m\u001b[0m\n\u001b[1;32m---> 16\u001b[1;33m     \u001b[1;32mif\u001b[0m \u001b[0mdf\u001b[0m\u001b[1;33m.\u001b[0m\u001b[0misnull\u001b[0m\u001b[1;33m(\u001b[0m\u001b[1;33m)\u001b[0m\u001b[1;33m.\u001b[0m\u001b[0mvalues\u001b[0m\u001b[1;33m[\u001b[0m\u001b[1;34m'song_id'\u001b[0m\u001b[1;33m]\u001b[0m\u001b[1;33m:\u001b[0m\u001b[1;33m\u001b[0m\u001b[1;33m\u001b[0m\u001b[0m\n\u001b[0m\u001b[0;32m     17\u001b[0m         \u001b[1;32mraise\u001b[0m \u001b[0mException\u001b[0m\u001b[1;33m(\u001b[0m\u001b[1;34m\"There is a Null Value in the played_at column\"\u001b[0m\u001b[1;33m)\u001b[0m\u001b[1;33m\u001b[0m\u001b[1;33m\u001b[0m\u001b[0m\n\u001b[0;32m     18\u001b[0m     \u001b[1;32melse\u001b[0m\u001b[1;33m:\u001b[0m\u001b[1;33m\u001b[0m\u001b[1;33m\u001b[0m\u001b[0m\n",
      "\u001b[1;31mIndexError\u001b[0m: only integers, slices (`:`), ellipsis (`...`), numpy.newaxis (`None`) and integer or boolean arrays are valid indices"
     ]
    }
   ],
   "source": [
    "if data_validation(df):\n",
    "    print(\"Data validation ran succesfully\")\n"
   ]
  }
 ],
 "metadata": {
  "interpreter": {
   "hash": "7dbb69f2fe16ee411a1d001fc5a919d66021ed1f9a71b5ac22cd67380668a935"
  },
  "kernelspec": {
   "display_name": "Python 3.7.1 64-bit",
   "language": "python",
   "name": "python3"
  },
  "language_info": {
   "codemirror_mode": {
    "name": "ipython",
    "version": 3
   },
   "file_extension": ".py",
   "mimetype": "text/x-python",
   "name": "python",
   "nbconvert_exporter": "python",
   "pygments_lexer": "ipython3",
   "version": "3.7.1"
  },
  "orig_nbformat": 4
 },
 "nbformat": 4,
 "nbformat_minor": 2
}
