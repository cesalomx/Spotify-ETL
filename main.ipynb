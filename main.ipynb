{
 "cells": [
  {
   "cell_type": "markdown",
   "metadata": {},
   "source": [
    "### Importing libraries, using TOKEN & USER_ID"
   ]
  },
  {
   "cell_type": "code",
   "execution_count": 10,
   "metadata": {},
   "outputs": [],
   "source": [
    "import sqlalchemy\n",
    "import pandas as pd\n",
    "from sqlalchemy.orm import sessionmaker\n",
    "import requests\n",
    "import json\n",
    "from datetime import datetime\n",
    "import datetime\n",
    "import sqlite3\n",
    "\n",
    "USER_ID = '227dt3g18rrzyco2j7p2boy2ly'\n",
    "TOKEN = 'BQC_BmsCxoTaAITQi_O0GaAhhuc3wZ2LVYEOQyV14l52mb9lNHnLmPJe4hsdrMmm-RdKZowPRdZaxLVYRH_BNR9NoMcuoRpOj3dNC3yNfORz2F-dKfiTxGn867b1upfn07RHx3OJXCo2A59wdNLZkE8Voa0Jv92-DS96rWxE'"
   ]
  },
  {
   "cell_type": "markdown",
   "metadata": {},
   "source": [
    "##### Function to validate my data after being extracted and cleaned up"
   ]
  },
  {
   "cell_type": "code",
   "execution_count": 11,
   "metadata": {},
   "outputs": [],
   "source": [
    "def data_validation(df:pd.DataFrame):\n",
    "#is the datadrame empty?    \n",
    "    if df.empty:\n",
    "        print(\"No songs were listened in the last 24 hours\")\n",
    "        return False\n",
    "\n",
    "#are primary keys ok?\n",
    "\n",
    "    if pd.Series(df['played_at']).is_unique:\n",
    "        pass\n",
    "    else:\n",
    "        raise Exception(\"The primary key conditions has been corrupted\")\n",
    "\n",
    "#are null values at song_id\n",
    "    \n",
    "    if df.isnull().values.any():\n",
    "        raise Exception(\"There is a Null Value in the played_at column\")\n",
    "    else:\n",
    "        return True\n",
    "    \n",
    "        "
   ]
  },
  {
   "cell_type": "code",
   "execution_count": 12,
   "metadata": {},
   "outputs": [],
   "source": [
    "headers = {\n",
    "    \"Accept\":\"application/json\",\n",
    "    \"Content-Type\":\"application/json\",\n",
    "    \"Authorization\":\"Bearer {token}\".format(token=TOKEN)\n",
    "}\n",
    "    "
   ]
  },
  {
   "cell_type": "code",
   "execution_count": 13,
   "metadata": {},
   "outputs": [],
   "source": [
    "r = requests.get(\"https://api.spotify.com/v1/me/player/recently-played\",headers = headers)\n",
    "response = r.json()"
   ]
  },
  {
   "cell_type": "code",
   "execution_count": 27,
   "metadata": {},
   "outputs": [],
   "source": [
    "def extraction():\n",
    "    my_song_list = []\n",
    "\n",
    "    for song in response['items']:\n",
    "        artist_id = song['track']['artists'][0]['id']\n",
    "        artist_name = song['track']['artists'][0]['name']\n",
    "        artist_link = song['track']['artists'][0]['external_urls']['spotify'] \n",
    "        album_id = song['track']['album']['id']\n",
    "        album_name = song['track']['album']['name']\n",
    "        album_link = song['track']['album']['external_urls']['spotify']\n",
    "        song_id = song['track']['id']\n",
    "        song_name = song['track']['name']\n",
    "        song_link = song['track']['external_urls']['spotify']\n",
    "        duration_ms = song['track']['duration_ms']\n",
    "        popularity = song['track']['popularity']\n",
    "        disc_number = song['track']['disc_number']\n",
    "        played_at = song['played_at'].split(\".\")[0]\n",
    "        \n",
    "        song_dic = {'artist_id': artist_id,\n",
    "                        'artist_name':artist_name,\n",
    "                        'artist_link':artist_link,\n",
    "                        'album_id':album_id,\n",
    "                        'album_name':album_name,\n",
    "                        'album_link':album_link,\n",
    "                        'song_id':song_id,\n",
    "                        'song_name':song_name,\n",
    "                        'song_link':song_link,\n",
    "                        'duration_ms':duration_ms,\n",
    "                        'popularity':popularity,\n",
    "                        'disc_number':disc_number,\n",
    "                        'played_at':played_at\n",
    "                        }\n",
    "        \n",
    "        my_song_list.append(song_dic)\n",
    "        df = pd.DataFrame(my_song_list)\n",
    "        \n",
    "        return True\n",
    "\n"
   ]
  },
  {
   "cell_type": "markdown",
   "metadata": {},
   "source": [
    "##### The Clean-Up"
   ]
  },
  {
   "cell_type": "code",
   "execution_count": 25,
   "metadata": {},
   "outputs": [],
   "source": [
    "def clean_up(df:pd.DataFrame):\n",
    "    #Re-ordering columns in my df\n",
    "    df = df[[\"artist_id\",\"artist_link\",\"album_id\",\"album_name\",\"album_link\",\"song_id\",\"song_name\",\"song_link\",\"duration_ms\",\"popularity\",\"disc_number\",\"played_at\"]]\n",
    "    #Creating two columns (date, time) by spliting the played_at column.\n",
    "    df[['date','time']] = df['played_at'].str.split('T',expand=True)\n",
    "    #Right now, played_at, date & time are objects, so we need to change these to timestamp.\n",
    "    df['date'] = pd.to_datetime(df['date'])\n",
    "    df['time'] = pd.to_timedelta(df['time'])\n",
    "    df['played_at'] = pd.to_datetime(df['played_at'])\n",
    "    df['played_at'] = df['played_at'].dt.tz_localize('US/Central')\n",
    "    ## df['played_at'] = df['played_at'].dt.strftime(\"%d/%m/%y\")\n",
    "    return True\n"
   ]
  },
  {
   "cell_type": "code",
   "execution_count": 31,
   "metadata": {},
   "outputs": [
    {
     "name": "stdout",
     "output_type": "stream",
     "text": [
      "The extraction ran succesfully\n",
      "The cleaned up ran succesfully\n",
      "Data validation ran succesfully\n"
     ]
    }
   ],
   "source": [
    "if extraction():\n",
    "    print(\"The extraction ran succesfully\")\n",
    "else:\n",
    "    print(\"something came up during the extraction, check TOKEN, USER_ID or the .json response\")\n",
    "if clean_up(df):\n",
    "    print(\"The cleaned up ran succesfully\")\n",
    "else:\n",
    "    print(\"something came up\")\n",
    "if data_validation(df):\n",
    "    print(\"Data validation ran succesfully\")\n",
    "else:\n",
    "    print(\"something came up\")\n"
   ]
  }
 ],
 "metadata": {
  "interpreter": {
   "hash": "7dbb69f2fe16ee411a1d001fc5a919d66021ed1f9a71b5ac22cd67380668a935"
  },
  "kernelspec": {
   "display_name": "Python 3.7.1 64-bit",
   "language": "python",
   "name": "python3"
  },
  "language_info": {
   "codemirror_mode": {
    "name": "ipython",
    "version": 3
   },
   "file_extension": ".py",
   "mimetype": "text/x-python",
   "name": "python",
   "nbconvert_exporter": "python",
   "pygments_lexer": "ipython3",
   "version": "3.7.1"
  },
  "orig_nbformat": 4
 },
 "nbformat": 4,
 "nbformat_minor": 2
}
